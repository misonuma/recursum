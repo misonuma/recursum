{
 "cells": [
  {
   "cell_type": "code",
   "execution_count": null,
   "metadata": {},
   "outputs": [],
   "source": [
    "!python train.py 0 yelp atttglm -tree 44 -disc -turn -c_prob 1 -mean -linear 40000 -lr 0.001 -lr_disc 0.01"
   ]
  },
  {
   "cell_type": "code",
   "execution_count": 5,
   "metadata": {
    "tags": [
     "outputPrepend"
    ]
   },
   "outputs": [
    {
     "name": "stdout",
     "output_type": "stream",
     "text": [
      "dmin  20   0  697680 176464   5592 S   0.3  0.1 321:56.15 sge_qmast+ \u001b[m\u001b[m\u001b[K\n",
      "\u001b[m 64168 ksudoh    20   0  774160  52864   8196 S   0.3  0.0   1:07.50 python3.6  \u001b[m\u001b[m\u001b[K\n",
      "\u001b[m179102 isonuma   20   0  157948   4008   1328 S   0.3  0.0   0:00.85 sshd       \u001b[m\u001b[m\u001b[K\n",
      "\u001b[m186612 root      20   0       0      0      0 S   0.3  0.0   0:00.24 kworker/u+ \u001b[m\u001b[m\u001b[K\n",
      "\u001b[m\u001b[1m194582 isonuma   20   0  162640   3040   1588 R   0.3  0.0   0:00.17 top        \u001b[m\u001b[m\u001b[K\n",
      "\n",
      "\n",
      "\n",
      "\n",
      "\u001b[H\u001b[mtop - 17:58:48 up 69 days,  4:21,  1 user,  load average: 1.10, 1.05, 0.51\u001b[m\u001b[m\u001b[m\u001b[m\u001b[K\n",
      "Tasks:\u001b[m\u001b[m\u001b[1m 838 \u001b[m\u001b[mtotal,\u001b[m\u001b[m\u001b[1m   2 \u001b[m\u001b[mrunning,\u001b[m\u001b[m\u001b[1m 836 \u001b[m\u001b[msleeping,\u001b[m\u001b[m\u001b[1m   0 \u001b[m\u001b[mstopped,\u001b[m\u001b[m\u001b[1m   0 \u001b[m\u001b[mzombie\u001b[m\u001b[m\u001b[m\u001b[m\u001b[K\n",
      "%Cpu(s):\u001b[m\u001b[m\u001b[1m  0.2 \u001b[m\u001b[mus,\u001b[m\u001b[m\u001b[1m  0.1 \u001b[m\u001b[msy,\u001b[m\u001b[m\u001b[1m  0.0 \u001b[m\u001b[mni,\u001b[m\u001b[m\u001b[1m 99.7 \u001b[m\u001b[mid,\u001b[m\u001b[m\u001b[1m  0.0 \u001b[m\u001b[mwa,\u001b[m\u001b[m\u001b[1m  0.0 \u001b[m\u001b[mhi,\u001b[m\u001b[m\u001b[1m  0.0 \u001b[m\u001b[msi,\u001b[m\u001b[m\u001b[1m  0.0 \u001b[m\u001b[mst\u001b[m\u001b[m\u001b[m\u001b[m\u001b[K\n",
      "KiB Mem :\u001b[m\u001b[m\u001b[1m 19695451+\u001b[m\u001b[mtotal,\u001b[m\u001b[m\u001b[1m 14446745+\u001b[m\u001b[mfree,\u001b[m\u001b[m\u001b[1m  8015932 \u001b[m\u001b[mused,\u001b[m\u001b[m\u001b[1m 44471124 \u001b[m\u001b[mbuff/cache\u001b[m\u001b[m\u001b[m\u001b[m\u001b[K\n",
      "KiB Swap:\u001b[m\u001b[m\u001b[1m  4194300 \u001b[m\u001b[mtotal,\u001b[m\u001b[m\u001b[1m  4194300 \u001b[m\u001b[mfree,\u001b[m\u001b[m\u001b[1m        0 \u001b[m\u001b[mused.\u001b[m\u001b[m\u001b[1m 18669420+\u001b[m\u001b[mavail Mem \u001b[m\u001b[m\u001b[m\u001b[m\u001b[K\n",
      "\u001b[K\n",
      "\n",
      "\u001b[m  2013 root      20   0  133196  32296   5808 S  19.1  0.0 936:36.90 node_expo+ \u001b[m\u001b[m\u001b[K\n",
      "\u001b[m160833 isonuma   20   0 9064056  87396  12628 S   2.0  0.0   0:13.17 python     \u001b[m\u001b[m\u001b[K\n",
      "\u001b[m  6772 root      20   0  194748  15752  12420 S   1.7  0.0   1532:10 vmeagt     \u001b[m\u001b[m\u001b[K\n",
      "\u001b[m\u001b[1m194582 isonuma   20   0  162640   3040   1588 R   0.7  0.0   0:00.19 top        \u001b[m\u001b[m\u001b[K\n",
      "\u001b[m  2030 dbus      20   0   59480   3668   1840 S   0.3  0.0  22:33.08 dbus-daem+ \u001b[m\u001b[m\u001b[K\n",
      "\u001b[m  2092 root      20   0  122560   8932   1380 S   0.3  0.0  79:32.85 srvmagtAc+ \u001b[m\u001b[m\u001b[K\n",
      "\u001b[m  4162 zabbix    20   0   86392   7012   6196 S   0.3  0.0 202:30.00 zabbix_ag+ \u001b[m\u001b[m\u001b[K\n",
      "\u001b[m  4229 root      20   0  306564  93896   6684 S   0.3  0.0 195:40.40 snmpd      \u001b[m\u001b[m\u001b[K\n",
      "\u001b[m  4416 root      20   0 1469436 111668  11840 S   0.3  0.1  76:05.13 amDaemon   \u001b[m\u001b[m\u001b[K\n",
      "\u001b[m 34139 isonuma   20   0  366748  64044   9440 S   0.3  0.0   0:11.95 jupyter-n+ \u001b[m\u001b[m\u001b[K\n",
      "\u001b[m107712 kentaka+  20   0  623972  21408  13568 S   0.3  0.0   0:20.98 node       \u001b[m\u001b[m\u001b[K\n",
      "\u001b[m193057 isonuma   20   0 1050292 169436  20856 S   0.3  0.1   0:10.39 node       \u001b[m\u001b[m\u001b[K\n",
      "\u001b[m208800 root      20   0       0      0      0 S   0.3  0.0   0:02.28 kworker/2+ \u001b[m\u001b[m\u001b[K\n",
      "\u001b[m     1 root      20   0  198956  11856   2604 S   0.0  0.0  21:58.78 systemd    \u001b[m\u001b[m\u001b[K\n",
      "\u001b[m     2 root      20   0       0      0      0 S   0.0  0.0   0:03.17 kthreadd   \u001b[m\u001b[m\u001b[K\n",
      "\u001b[m     3 root      20   0       0      0      0 S   0.0  0.0   0:03.24 ksoftirqd+ \u001b[m\u001b[m\u001b[K\n",
      "\u001b[m     8 root      rt   0       0      0      0 S   0.0  0.0   0:01.19 migration+ \u001b[m\u001b[m\u001b[K\u001b[H\u001b[mtop - 17:58:51 up 69 days,  4:21,  1 user,  load average: 1.01, 1.03, 0.50\u001b[m\u001b[m\u001b[m\u001b[m\u001b[K\n",
      "Tasks:\u001b[m\u001b[m\u001b[1m 838 \u001b[m\u001b[mtotal,\u001b[m\u001b[m\u001b[1m   1 \u001b[m\u001b[mrunning,\u001b[m\u001b[m\u001b[1m 837 \u001b[m\u001b[msleeping,\u001b[m\u001b[m\u001b[1m   0 \u001b[m\u001b[mstopped,\u001b[m\u001b[m\u001b[1m   0 \u001b[m\u001b[mzombie\u001b[m\u001b[m\u001b[m\u001b[m\u001b[K\n",
      "%Cpu(s):\u001b[m\u001b[m\u001b[1m  0.1 \u001b[m\u001b[mus,\u001b[m\u001b[m\u001b[1m  0.1 \u001b[m\u001b[msy,\u001b[m\u001b[m\u001b[1m  0.0 \u001b[m\u001b[mni,\u001b[m\u001b[m\u001b[1m 99.9 \u001b[m\u001b[mid,\u001b[m\u001b[m\u001b[1m  0.0 \u001b[m\u001b[mwa,\u001b[m\u001b[m\u001b[1m  0.0 \u001b[m\u001b[mhi,\u001b[m\u001b[m\u001b[1m  0.0 \u001b[m\u001b[msi,\u001b[m\u001b[m\u001b[1m  0.0 \u001b[m\u001b[mst\u001b[m\u001b[m\u001b[m\u001b[m\u001b[K\n",
      "KiB Mem :\u001b[m\u001b[m\u001b[1m 19695451+\u001b[m\u001b[mtotal,\u001b[m\u001b[m\u001b[1m 14446672+\u001b[m\u001b[mfree,\u001b[m\u001b[m\u001b[1m  8016676 \u001b[m\u001b[mused,\u001b[m\u001b[m\u001b[1m 44471124 \u001b[m\u001b[mbuff/cache\u001b[m\u001b[m\u001b[m\u001b[m\u001b[K\n",
      "KiB Swap:\u001b[m\u001b[m\u001b[1m  4194300 \u001b[m\u001b[mtotal,\u001b[m\u001b[m\u001b[1m  4194300 \u001b[m\u001b[mfree,\u001b[m\u001b[m\u001b[1m        0 \u001b[m\u001b[mused.\u001b[m\u001b[m\u001b[1m 18669345+\u001b[m\u001b[mavail Mem \u001b[m\u001b[m\u001b[m\u001b[m\u001b[K\n",
      "\u001b[K\n",
      "\n",
      "\u001b[m193057 isonuma   20   0 1049860 169076  20856 S   4.3  0.1   0:10.52 node       \u001b[m\u001b[m\u001b[K\n",
      "\u001b[m160833 isonuma   20   0 9064056  87396  12628 S   1.7  0.0   0:13.22 python     \u001b[m\u001b[m\u001b[K\n",
      "\u001b[m  6772 root      20   0  194748  15752  12420 S   1.3  0.0   1532:10 vmeagt     \u001b[m\u001b[m\u001b[K\n",
      "\u001b[m 14535 ugeadmin  20   0  697680 176472   5592 S   0.7  0.1 321:56.17 sge_qmast+ \u001b[m\u001b[m\u001b[K\n",
      "\u001b[m179102 isonuma   20   0  160344   5588   1328 S   0.7  0.0   0:00.87 sshd       \u001b[m\u001b[m\u001b[K\n",
      "\u001b[m  2092 root      20   0  122560   8932   1380 S   0.3  0.0  79:32.86 srvmagtAc+ \u001b[m\u001b[m\u001b[K\n",
      "\u001b[m  3093 kentaka+  20   0 1012260  28068  14432 S   0.3  0.0  12:43.34 node       \u001b[m\u001b[m\u001b[K\n",
      "\u001b[m  4229 root      20   0  306564  93896   6684 S   0.3  0.0 195:40.41 snmpd      \u001b[m\u001b[m\u001b[K\n",
      "\u001b[m  4549 squid     20   0  100132  20588   7728 S   0.3  0.0  19:18.31 squid      \u001b[m\u001b[m\u001b[K\n",
      "\u001b[m140674 root      20   0       0      0      0 S   0.3  0.0   0:00.11 kworker/5+ \u001b[m\u001b[m\u001b[K\n",
      "\u001b[m\u001b[1m194582 isonuma   20   0  162640   3040   1588 R   0.3  0.0   0:00.20 top        \u001b[m\u001b[m\u001b[K\n",
      "\u001b[m     1 root      20   0  198956  11856   2604 S   0.0  0.0  21:58.78 systemd    \u001b[m\u001b[m\u001b[K\n",
      "\u001b[m     2 root      20   0       0      0      0 S   0.0  0.0   0:03.17 kthreadd   \u001b[m\u001b[m\u001b[K\n",
      "\u001b[m     3 root      20   0       0      0      0 S   0.0  0.0   0:03.24 ksoftirqd+ \u001b[m\u001b[m\u001b[K\n",
      "\u001b[m     8 root      rt   0       0      0      0 S   0.0  0.0   0:01.19 migration+ \u001b[m\u001b[m\u001b[K\n",
      "\u001b[m     9 root      20   0       0      0      0 S   0.0  0.0   0:00.00 rcu_bh     \u001b[m\u001b[m\u001b[K\n",
      "\u001b[m    10 root      20   0       0      0      0 S   0.0  0.0  46:07.65 rcu_sched  \u001b[m\u001b[m\u001b[K\u001b[H\u001b[mtop - 17:58:54 up 69 days,  4:21,  1 user,  load average: 1.01, 1.03, 0.50\u001b[m\u001b[m\u001b[m\u001b[m\u001b[K\n",
      "\n",
      "%Cpu(s):\u001b[m\u001b[m\u001b[1m  0.1 \u001b[m\u001b[mus,\u001b[m\u001b[m\u001b[1m  0.1 \u001b[m\u001b[msy,\u001b[m\u001b[m\u001b[1m  0.0 \u001b[m\u001b[mni,\u001b[m\u001b[m\u001b[1m 99.8 \u001b[m\u001b[mid,\u001b[m\u001b[m\u001b[1m  0.0 \u001b[m\u001b[mwa,\u001b[m\u001b[m\u001b[1m  0.0 \u001b[m\u001b[mhi,\u001b[m\u001b[m\u001b[1m  0.0 \u001b[m\u001b[msi,\u001b[m\u001b[m\u001b[1m  0.0 \u001b[m\u001b[mst\u001b[m\u001b[m\u001b[m\u001b[m\u001b[K\n",
      "KiB Mem :\u001b[m\u001b[m\u001b[1m 19695451+\u001b[m\u001b[mtotal,\u001b[m\u001b[m\u001b[1m 14446579+\u001b[m\u001b[mfree,\u001b[m\u001b[m\u001b[1m  8017596 \u001b[m\u001b[mused,\u001b[m\u001b[m\u001b[1m 44471124 \u001b[m\u001b[mbuff/cache\u001b[m\u001b[m\u001b[m\u001b[m\u001b[K\n",
      "KiB Swap:\u001b[m\u001b[m\u001b[1m  4194300 \u001b[m\u001b[mtotal,\u001b[m\u001b[m\u001b[1m  4194300 \u001b[m\u001b[mfree,\u001b[m\u001b[m\u001b[1m        0 \u001b[m\u001b[mused.\u001b[m\u001b[m\u001b[1m 18669254+\u001b[m\u001b[mavail Mem \u001b[m\u001b[m\u001b[m\u001b[m\u001b[K\n",
      "\u001b[K\n",
      "\n",
      "\u001b[m193057 isonuma   20   0 1050196 168772  20856 S   4.0  0.1   0:10.64 node       \u001b[m\u001b[m\u001b[K\n",
      "\u001b[m160833 isonuma   20   0 9064056  87396  12628 S   2.0  0.0   0:13.28 python     \u001b[m\u001b[m\u001b[K\n",
      "\n",
      "\u001b[m\u001b[1m194582 isonuma   20   0  162640   3040   1588 R   1.0  0.0   0:00.23 top        \u001b[m\u001b[m\u001b[K\n",
      "\u001b[m179102 isonuma   20   0  160344   5852   1328 S   0.7  0.0   0:00.89 sshd       \u001b[m\u001b[m\u001b[K\n",
      "\u001b[m    10 root      20   0       0      0      0 S   0.3  0.0  46:07.66 rcu_sched  \u001b[m\u001b[m\u001b[K\n",
      "\u001b[m  2025 root      20   0   22244   1932    976 S   0.3  0.0  95:38.70 irqbalance \u001b[m\u001b[m\u001b[K\n",
      "\u001b[m  4162 zabbix    20   0   86392   7012   6196 S   0.3  0.0 202:30.01 zabbix_ag+ \u001b[m\u001b[m\u001b[K\n",
      "\u001b[m  6567 root      20   0  307336  25064  12528 S   0.3  0.0  15:22.95 busagt     \u001b[m\u001b[m\u001b[K\n",
      "\u001b[m 64086 ksudoh    20   0  793300  79612   8700 S   0.3  0.0  15:48.13 jupyter-l+ \u001b[m\u001b[m\u001b[K\n",
      "\u001b[m 64173 ksudoh    20   0  774160  52840   8196 S   0.3  0.0   1:08.15 python3.6  \u001b[m\u001b[m\u001b[K\n",
      "\n",
      "\n",
      "\n",
      "\n",
      "\n",
      "\u001b[m    11 root       0 -20       0      0      0 S   0.0  0.0   0:00.00 lru-add-d+ \u001b[m\u001b[m\u001b[K\u001b[H\u001b[mtop - 17:58:57 up 69 days,  4:21,  1 user,  load average: 0.93, 1.01, 0.50\u001b[m\u001b[m\u001b[m\u001b[m\u001b[K\n",
      "\n",
      "\n",
      "KiB Mem :\u001b[m\u001b[m\u001b[1m 19695451+\u001b[m\u001b[mtotal,\u001b[m\u001b[m\u001b[1m 14446512+\u001b[m\u001b[mfree,\u001b[m\u001b[m\u001b[1m  8018260 \u001b[m\u001b[mused,\u001b[m\u001b[m\u001b[1m 44471124 \u001b[m\u001b[mbuff/cache\u001b[m\u001b[m\u001b[m\u001b[m\u001b[K\n",
      "KiB Swap:\u001b[m\u001b[m\u001b[1m  4194300 \u001b[m\u001b[mtotal,\u001b[m\u001b[m\u001b[1m  4194300 \u001b[m\u001b[mfree,\u001b[m\u001b[m\u001b[1m        0 \u001b[m\u001b[mused.\u001b[m\u001b[m\u001b[1m 18669187+\u001b[m\u001b[mavail Mem \u001b[m\u001b[m\u001b[m\u001b[m\u001b[K\n",
      "\u001b[K\n",
      "\n",
      "\u001b[m193057 isonuma   20   0 1050196 168956  20856 S   3.6  0.1   0:10.75 node       \u001b[m\u001b[m\u001b[K\n",
      "\u001b[m  5349 root      20   0 3198776 108184  64588 S   2.6  0.1 512:41.47 eecd       \u001b[m\u001b[m\u001b[K\n",
      "\u001b[m  6772 root      20   0  194748  15752  12420 S   2.6  0.0   1532:10 vmeagt     \u001b[m\u001b[m\u001b[K\n",
      "\u001b[m160833 isonuma   20   0 9064056  87396  12628 S   1.7  0.0   0:13.33 python     \u001b[m\u001b[m\u001b[K\n",
      "\u001b[m  1638 root      39  19       0      0      0 S   1.0  0.0 259:45.88 kipmi0     \u001b[m\u001b[m\u001b[K\n",
      "\u001b[m 14535 ugeadmin  20   0  697680 176468   5592 S   0.7  0.1 321:56.19 sge_qmast+ \u001b[m\u001b[m\u001b[K\n",
      "\u001b[m  2092 root      20   0  122560   8932   1380 S   0.3  0.0  79:32.87 srvmagtAc+ \u001b[m\u001b[m\u001b[K\n",
      "\u001b[m  4229 root      20   0  306564  93896   6684 S   0.3  0.0 195:40.42 snmpd      \u001b[m\u001b[m\u001b[K\n",
      "\u001b[m  4416 root      20   0 1469436 111668  11840 S   0.3  0.1  76:05.14 amDaemon   \u001b[m\u001b[m\u001b[K\n",
      "\u001b[m  6567 root      20   0  307336  25064  12528 S   0.3  0.0  15:22.96 busagt     \u001b[m\u001b[m\u001b[K\n",
      "\u001b[m 34139 isonuma   20   0  366748  64044   9440 S   0.3  0.0   0:11.96 jupyter-n+ \u001b[m\u001b[m\u001b[K\n",
      "\u001b[m179102 isonuma   20   0  160344   5852   1328 S   0.3  0.0   0:00.90 sshd       \u001b[m\u001b[m\u001b[K\n",
      "\u001b[m\u001b[1m194582 isonuma   20   0  162640   3040   1588 R   0.3  0.0   0:00.24 top        \u001b[m\u001b[m\u001b[K\n",
      "\u001b[m     1 root      20   0  198956  11856   2604 S   0.0  0.0  21:58.78 systemd    \u001b[m\u001b[m\u001b[K\n",
      "\u001b[m     2 root      20   0       0      0      0 S   0.0  0.0   0:03.17 kthreadd   \u001b[m\u001b[m\u001b[K\n",
      "\u001b[m     3 root      20   0       0      0      0 S   0.0  0.0   0:03.24 ksoftirqd+ \u001b[m\u001b[m\u001b[K\n",
      "\u001b[m     8 root      rt   0       0      0      0 S   0.0  0.0   0:01.19 migration+ \u001b[m\u001b[m\u001b[K\u001b[H\u001b[mtop - 17:59:00 up 69 days,  4:21,  1 user,  load average: 0.93, 1.01, 0.50\u001b[m\u001b[m\u001b[m\u001b[m\u001b[K\n",
      "\n",
      "%Cpu(s):\u001b[m\u001b[m\u001b[1m  0.1 \u001b[m\u001b[mus,\u001b[m\u001b[m\u001b[1m  0.1 \u001b[m\u001b[msy,\u001b[m\u001b[m\u001b[1m  0.0 \u001b[m\u001b[mni,\u001b[m\u001b[m\u001b[1m 99.9 \u001b[m\u001b[mid,\u001b[m\u001b[m\u001b[1m  0.0 \u001b[m\u001b[mwa,\u001b[m\u001b[m\u001b[1m  0.0 \u001b[m\u001b[mhi,\u001b[m\u001b[m\u001b[1m  0.0 \u001b[m\u001b[msi,\u001b[m\u001b[m\u001b[1m  0.0 \u001b[m\u001b[mst\u001b[m\u001b[m\u001b[m\u001b[m\u001b[K\n",
      "KiB Mem :\u001b[m\u001b[m\u001b[1m 19695451+\u001b[m\u001b[mtotal,\u001b[m\u001b[m\u001b[1m 14446379+\u001b[m\u001b[mfree,\u001b[m\u001b[m\u001b[1m  8019592 \u001b[m\u001b[mused,\u001b[m\u001b[m\u001b[1m 44471124 \u001b[m\u001b[mbuff/cache\u001b[m\u001b[m\u001b[m\u001b[m\u001b[K\n",
      "KiB Swap:\u001b[m\u001b[m\u001b[1m  4194300 \u001b[m\u001b[mtotal,\u001b[m\u001b[m\u001b[1m  4194300 \u001b[m\u001b[mfree,\u001b[m\u001b[m\u001b[1m        0 \u001b[m\u001b[mused.\u001b[m\u001b[m\u001b[1m 18669054+\u001b[m\u001b[mavail Mem \u001b[m\u001b[m\u001b[m\u001b[m\u001b[K\n",
      "\u001b[K\n",
      "\n",
      "\u001b[m193057 isonuma   20   0 1050452 169176  20856 S   4.0  0.1   0:10.87 node       \u001b[m\u001b[m\u001b[K\n",
      "\u001b[m160833 isonuma   20   0 9064056  87396  12628 S   2.0  0.0   0:13.39 python     \u001b[m\u001b[m\u001b[K\n",
      "\u001b[m  6772 root      20   0  194748  15752  12420 S   1.7  0.0   1532:10 vmeagt     \u001b[m\u001b[m\u001b[K\n",
      "\u001b[m 14535 ugeadmin  20   0  697680 176468   5592 S   0.7  0.1 321:56.21 sge_qmast+ \u001b[m\u001b[m\u001b[K\n",
      "\u001b[m     1 root      20   0  198956  11856   2604 S   0.3  0.0  21:58.79 systemd    \u001b[m\u001b[m\u001b[K\n",
      "\u001b[m  4162 zabbix    20   0   86392   7012   6196 S   0.3  0.0 202:30.02 zabbix_ag+ \u001b[m\u001b[m\u001b[K\n",
      "\u001b[m172892 isonuma   20   0  953116  64440  17984 S   0.3  0.0   0:19.85 node       \u001b[m\u001b[m\u001b[K\n",
      "\u001b[m\u001b[1m194582 isonuma   20   0  162640   3040   1588 R   0.3  0.0   0:00.25 top        \u001b[m\u001b[m\u001b[K\n",
      "\u001b[m     2 root      20   0       0      0      0 S   0.0  0.0   0:03.17 kthreadd   \u001b[m\u001b[m\u001b[K\n",
      "\u001b[m     3 root      20   0       0      0      0 S   0.0  0.0   0:03.24 ksoftirqd+ \u001b[m\u001b[m\u001b[K\n",
      "\u001b[m     8 root      rt   0       0      0      0 S   0.0  0.0   0:01.19 migration+ \u001b[m\u001b[m\u001b[K\n",
      "\u001b[m     9 root      20   0       0      0      0 S   0.0  0.0   0:00.00 rcu_bh     \u001b[m\u001b[m\u001b[K\n",
      "\u001b[m    10 root      20   0       0      0      0 S   0.0  0.0  46:07.66 rcu_sched  \u001b[m\u001b[m\u001b[K\n",
      "\u001b[m    11 root       0 -20       0      0      0 S   0.0  0.0   0:00.00 lru-add-d+ \u001b[m\u001b[m\u001b[K\n",
      "\u001b[m    12 root      rt   0       0      0      0 S   0.0  0.0   0:28.09 watchdog/0 \u001b[m\u001b[m\u001b[K\n",
      "\u001b[m    13 root      rt   0       0      0      0 S   0.0  0.0   0:31.68 watchdog/1 \u001b[m\u001b[m\u001b[K\n",
      "\u001b[m    14 root      rt   0       0      0      0 S   0.0  0.0   0:03.02 migration+ \u001b[m\u001b[m\u001b[K\u001b[H\u001b[mtop - 17:59:03 up 69 days,  4:21,  1 user,  load average: 0.85, 0.99, 0.50\u001b[m\u001b[m\u001b[m\u001b[m\u001b[K\n",
      "\n",
      "%Cpu(s):\u001b[m\u001b[m\u001b[1m  0.1 \u001b[m\u001b[mus,\u001b[m\u001b[m\u001b[1m  0.2 \u001b[m\u001b[msy,\u001b[m\u001b[m\u001b[1m  0.0 \u001b[m\u001b[mni,\u001b[m\u001b[m\u001b[1m 99.7 \u001b[m\u001b[mid,\u001b[m\u001b[m\u001b[1m  0.0 \u001b[m\u001b[mwa,\u001b[m\u001b[m\u001b[1m  0.0 \u001b[m\u001b[mhi,\u001b[m\u001b[m\u001b[1m  0.0 \u001b[m\u001b[msi,\u001b[m\u001b[m\u001b[1m  0.0 \u001b[m\u001b[mst\u001b[m\u001b[m\u001b[m\u001b[m\u001b[K\n",
      "KiB Mem :\u001b[m\u001b[m\u001b[1m 19695451+\u001b[m\u001b[mtotal,\u001b[m\u001b[m\u001b[1m 14446340+\u001b[m\u001b[mfree,\u001b[m\u001b[m\u001b[1m  8018872 \u001b[m\u001b[mused,\u001b[m\u001b[m\u001b[1m 44472228 \u001b[m\u001b[mbuff/cache\u001b[m\u001b[m\u001b[m\u001b[m\u001b[K\n",
      "KiB Swap:\u001b[m\u001b[m\u001b[1m  4194300 \u001b[m\u001b[mtotal,\u001b[m\u001b[m\u001b[1m  4194300 \u001b[m\u001b[mfree,\u001b[m\u001b[m\u001b[1m        0 \u001b[m\u001b[mused.\u001b[m\u001b[m\u001b[1m 18669083+\u001b[m\u001b[mavail Mem \u001b[m\u001b[m\u001b[m\u001b[m\u001b[K\n",
      "\u001b[K\n",
      "\n",
      "\u001b[m  6772 root      20   0  194748  15752  12420 S   1.7  0.0   1532:10 vmeagt     \u001b[m\u001b[m\u001b[K\n",
      "\u001b[m160833 isonuma   20   0 9064056  87396  12628 S   1.7  0.0   0:13.44 python     \u001b[m\u001b[m\u001b[K\n",
      "\u001b[m193057 isonuma   20   0 1051316 170040  20856 S   1.0  0.1   0:10.90 node       \u001b[m\u001b[m\u001b[K\n",
      "\u001b[m\u001b[1m194582 isonuma   20   0  162640   3040   1588 R   0.7  0.0   0:00.27 top        \u001b[m\u001b[m\u001b[K\n",
      "\u001b[m    10 root      20   0       0      0      0 S   0.3  0.0  46:07.67 rcu_sched  \u001b[m\u001b[m\u001b[K\n",
      "\u001b[m  2025 root      20   0   22244   1932    976 S   0.3  0.0  95:38.71 irqbalance \u001b[m\u001b[m\u001b[K\n",
      "\u001b[m  2030 dbus      20   0   59480   3668   1840 S   0.3  0.0  22:33.09 dbus-daem+ \u001b[m\u001b[m\u001b[K\n",
      "\u001b[m  2092 root      20   0  122560   8932   1380 S   0.3  0.0  79:32.88 srvmagtAc+ \u001b[m\u001b[m\u001b[K\n",
      "\u001b[m  4162 zabbix    20   0   86392   7012   6196 S   0.3  0.0 202:30.03 zabbix_ag+ \u001b[m\u001b[m\u001b[K\n",
      "\u001b[m  4229 root      20   0  306564  93896   6684 S   0.3  0.0 195:40.43 snmpd      \u001b[m\u001b[m\u001b[K\n",
      "\u001b[m  6580 root      20   0  132240  14892  12264 S   0.3  0.0  24:32.12 hdagt      \u001b[m\u001b[m\u001b[K\n",
      "\u001b[m  6595 root      20   0  130360   2524   1472 S   0.3  0.0  14:01.93 unixagt    \u001b[m\u001b[m\u001b[K\n",
      "\u001b[m  6675 root      20   0  132792  13228  11984 S   0.3  0.0  21:51.50 invagt     \u001b[m\u001b[m\u001b[K\n",
      "\u001b[m 14535 ugeadmin  20   0  697680 176388   5592 S   0.3  0.1 321:56.22 sge_qmast+ \u001b[m\u001b[m\u001b[K\n",
      "\u001b[m 94829 root      20   0       0      0      0 S   0.3  0.0   1:53.61 kworker/0+ \u001b[m\u001b[m\u001b[K\n",
      "\u001b[m186612 root      20   0       0      0      0 S   0.3  0.0   0:00.25 kworker/u+ \u001b[m\u001b[m\u001b[K\n",
      "\u001b[m     1 root      20   0  198956  11856   2604 S   0.0  0.0  21:58.79 systemd    \u001b[m\u001b[m\u001b[K\u001b[H\u001b[mtop - 17:59:06 up 69 days,  4:22,  1 user,  load average: 0.78, 0.98, 0.50\u001b[m\u001b[m\u001b[m\u001b[m\u001b[K\n",
      "\n",
      "%Cpu(s):\u001b[m\u001b[m\u001b[1m  0.1 \u001b[m\u001b[mus,\u001b[m\u001b[m\u001b[1m  0.1 \u001b[m\u001b[msy,\u001b[m\u001b[m\u001b[1m  0.0 \u001b[m\u001b[mni,\u001b[m\u001b[m\u001b[1m 99.8 \u001b[m\u001b[mid,\u001b[m\u001b[m\u001b[1m  0.0 \u001b[m\u001b[mwa,\u001b[m\u001b[m\u001b[1m  0.0 \u001b[m\u001b[mhi,\u001b[m\u001b[m\u001b[1m  0.0 \u001b[m\u001b[msi,\u001b[m\u001b[m\u001b[1m  0.0 \u001b[m\u001b[mst\u001b[m\u001b[m\u001b[m\u001b[m\u001b[K\n",
      "KiB Mem :\u001b[m\u001b[m\u001b[1m 19695451+\u001b[m\u001b[mtotal,\u001b[m\u001b[m\u001b[1m 14446540+\u001b[m\u001b[mfree,\u001b[m\u001b[m\u001b[1m  8017024 \u001b[m\u001b[mused,\u001b[m\u001b[m\u001b[1m 44472084 \u001b[m\u001b[mbuff/cache\u001b[m\u001b[m\u001b[m\u001b[m\u001b[K\n",
      "KiB Swap:\u001b[m\u001b[m\u001b[1m  4194300 \u001b[m\u001b[mtotal,\u001b[m\u001b[m\u001b[1m  4194300 \u001b[m\u001b[mfree,\u001b[m\u001b[m\u001b[1m        0 \u001b[m\u001b[mused.\u001b[m\u001b[m\u001b[1m 18669283+\u001b[m\u001b[mavail Mem \u001b[m\u001b[m\u001b[m\u001b[m\u001b[K\n",
      "\u001b[K\n",
      "\n",
      "\u001b[m193057 isonuma   20   0 1051140 169896  20856 S   3.3  0.1   0:11.00 node       \u001b[m\u001b[m\u001b[K\n",
      "\u001b[m  6772 root      20   0  194748  15752  12420 S   1.7  0.0   1532:10 vmeagt     \u001b[m\u001b[m\u001b[K\n",
      "\u001b[m160833 isonuma   20   0 9064056  87396  12628 S   1.7  0.0   0:13.49 python     \u001b[m\u001b[m\u001b[K\n",
      "\u001b[m  2092 root      20   0  122560   8932   1380 S   0.7  0.0  79:32.90 srvmagtAc+ \u001b[m\u001b[m\u001b[K\n",
      "\u001b[m 14535 ugeadmin  20   0  697680 176384   5592 S   0.7  0.1 321:56.24 sge_qmast+ \u001b[m\u001b[m\u001b[K\n",
      "\u001b[m  1638 root      39  19       0      0      0 S   0.3  0.0 259:45.89 kipmi0     \u001b[m\u001b[m\u001b[K\n",
      "\u001b[m  3093 kentaka+  20   0 1012260  28092  14432 S   0.3  0.0  12:43.35 node       \u001b[m\u001b[m\u001b[K\n",
      "\u001b[m  6595 root      20   0  130360   2524   1472 S   0.3  0.0  14:01.94 unixagt    \u001b[m\u001b[m\u001b[K\n",
      "\u001b[m 34139 isonuma   20   0  366748  64044   9440 S   0.3  0.0   0:11.97 jupyter-n+ \u001b[m\u001b[m\u001b[K\n",
      "\u001b[m 64172 ksudoh    20   0  774228  52856   8196 S   0.3  0.0   1:07.68 python3.6  \u001b[m\u001b[m\u001b[K\n",
      "\u001b[m\u001b[1m194582 isonuma   20   0  162640   3040   1588 R   0.3  0.0   0:00.28 top        \u001b[m\u001b[m\u001b[K\n",
      "\u001b[m     1 root      20   0  198956  11856   2604 S   0.0  0.0  21:58.79 systemd    \u001b[m\u001b[m\u001b[K\n",
      "\u001b[m     2 root      20   0       0      0      0 S   0.0  0.0   0:03.17 kthreadd   \u001b[m\u001b[m\u001b[K\n",
      "\u001b[m     3 root      20   0       0      0      0 S   0.0  0.0   0:03.24 ksoftirqd+ \u001b[m\u001b[m\u001b[K\n",
      "\u001b[m     8 root      rt   0       0      0      0 S   0.0  0.0   0:01.19 migration+ \u001b[m\u001b[m\u001b[K\n",
      "\u001b[m     9 root      20   0       0      0      0 S   0.0  0.0   0:00.00 rcu_bh     \u001b[m\u001b[m\u001b[K\n",
      "\u001b[m    10 root      20   0       0      0      0 S   0.0  0.0  46:07.67 rcu_sched  \u001b[m\u001b[m\u001b[K\u001b[H\u001b[mtop - 17:59:09 up 69 days,  4:22,  1 user,  load average: 0.78, 0.98, 0.50\u001b[m\u001b[m\u001b[m\u001b[m\u001b[K\n",
      "\n",
      "%Cpu(s):\u001b[m\u001b[m\u001b[1m  0.1 \u001b[m\u001b[mus,\u001b[m\u001b[m\u001b[1m  0.1 \u001b[m\u001b[msy,\u001b[m\u001b[m\u001b[1m  0.0 \u001b[m\u001b[mni,\u001b[m\u001b[m\u001b[1m 99.9 \u001b[m\u001b[mid,\u001b[m\u001b[m\u001b[1m  0.0 \u001b[m\u001b[mwa,\u001b[m\u001b[m\u001b[1m  0.0 \u001b[m\u001b[mhi,\u001b[m\u001b[m\u001b[1m  0.0 \u001b[m\u001b[msi,\u001b[m\u001b[m\u001b[1m  0.0 \u001b[m\u001b[mst\u001b[m\u001b[m\u001b[m\u001b[m\u001b[K\n",
      "KiB Mem :\u001b[m\u001b[m\u001b[1m 19695451+\u001b[m\u001b[mtotal,\u001b[m\u001b[m\u001b[1m 14446571+\u001b[m\u001b[mfree,\u001b[m\u001b[m\u001b[1m  8016712 \u001b[m\u001b[mused,\u001b[m\u001b[m\u001b[1m 44472084 \u001b[m\u001b[mbuff/cache\u001b[m\u001b[m\u001b[m\u001b[m\u001b[K\n",
      "KiB Swap:\u001b[m\u001b[m\u001b[1m  4194300 \u001b[m\u001b[mtotal,\u001b[m\u001b[m\u001b[1m  4194300 \u001b[m\u001b[mfree,\u001b[m\u001b[m\u001b[1m        0 \u001b[m\u001b[mused.\u001b[m\u001b[m\u001b[1m 18669313+\u001b[m\u001b[mavail Mem \u001b[m\u001b[m\u001b[m\u001b[m\u001b[K\n",
      "\u001b[K\n",
      "\n",
      "\u001b[m193057 isonuma   20   0 1050964 169864  20856 S   3.3  0.1   0:11.10 node       \u001b[m\u001b[m\u001b[K\n",
      "\u001b[m160833 isonuma   20   0 9064056  87396  12628 S   2.0  0.0   0:13.55 python     \u001b[m\u001b[m\u001b[K\n",
      "\u001b[m  6772 root      20   0  194748  15752  12420 S   1.7  0.0   1532:10 vmeagt     \u001b[m\u001b[m\u001b[K\n",
      "\u001b[m  4229 root      20   0  306564  93896   6684 S   0.7  0.0 195:40.45 snmpd      \u001b[m\u001b[m\u001b[K\n",
      "\u001b[m\u001b[1m194582 isonuma   20   0  162640   3040   1588 R   0.7  0.0   0:00.30 top        \u001b[m\u001b[m\u001b[K\n",
      "\u001b[m    10 root      20   0       0      0      0 S   0.3  0.0  46:07.68 rcu_sched  \u001b[m\u001b[m\u001b[K\n",
      "\u001b[m  4162 zabbix    20   0   86392   7012   6196 S   0.3  0.0 202:30.04 zabbix_ag+ \u001b[m\u001b[m\u001b[K\n",
      "\u001b[m  5349 root      20   0 3198776 108184  64588 S   0.3  0.1 512:41.48 eecd       \u001b[m\u001b[m\u001b[K\n",
      "\u001b[m  6748 root      20   0  226076  26900  12000 S   0.3  0.0  15:39.62 osagt      \u001b[m\u001b[m\u001b[K\n",
      "\u001b[m  6790 root      20   0  290352  12964  11912 S   0.3  0.0  15:02.97 vmesnmpagt \u001b[m\u001b[m\u001b[K\n",
      "\u001b[m 34139 isonuma   20   0  366748  64044   9440 S   0.3  0.0   0:11.98 jupyter-n+ \u001b[m\u001b[m\u001b[K\n",
      "\u001b[m 64086 ksudoh    20   0  793300  79612   8700 S   0.3  0.0  15:48.14 jupyter-l+ \u001b[m\u001b[m\u001b[K\n",
      "\u001b[m172936 isonuma   20   0 1147592  23576  14444 S   0.3  0.0   0:02.80 node       \u001b[m\u001b[m\u001b[K\n",
      "\u001b[m     1 root      20   0  198956  11856   2604 S   0.0  0.0  21:58.79 systemd    \u001b[m\u001b[m\u001b[K\n",
      "\u001b[m     2 root      20   0       0      0      0 S   0.0  0.0   0:03.17 kthreadd   \u001b[m\u001b[m\u001b[K\n",
      "\u001b[m     3 root      20   0       0      0      0 S   0.0  0.0   0:03.24 ksoftirqd+ \u001b[m\u001b[m\u001b[K\n",
      "\u001b[m     8 root      rt   0       0      0      0 S   0.0  0.0   0:01.19 migration+ \u001b[m\u001b[m\u001b[K\u001b[H\u001b[mtop - 17:59:12 up 69 days,  4:22,  1 user,  load average: 0.72, 0.96, 0.49\u001b[m\u001b[m\u001b[m\u001b[m\u001b[K\n",
      "\n",
      "%Cpu(s):\u001b[m\u001b[m\u001b[1m  0.1 \u001b[m\u001b[mus,\u001b[m\u001b[m\u001b[1m  0.1 \u001b[m\u001b[msy,\u001b[m\u001b[m\u001b[1m  0.0 \u001b[m\u001b[mni,\u001b[m\u001b[m\u001b[1m 99.8 \u001b[m\u001b[mid,\u001b[m\u001b[m\u001b[1m  0.0 \u001b[m\u001b[mwa,\u001b[m\u001b[m\u001b[1m  0.0 \u001b[m\u001b[mhi,\u001b[m\u001b[m\u001b[1m  0.0 \u001b[m\u001b[msi,\u001b[m\u001b[m\u001b[1m  0.0 \u001b[m\u001b[mst\u001b[m\u001b[m\u001b[m\u001b[m\u001b[K\n",
      "KiB Mem :\u001b[m\u001b[m\u001b[1m 19695451+\u001b[m\u001b[mtotal,\u001b[m\u001b[m\u001b[1m 14446636+\u001b[m\u001b[mfree,\u001b[m\u001b[m\u001b[1m  8016076 \u001b[m\u001b[mused,\u001b[m\u001b[m\u001b[1m 44472072 \u001b[m\u001b[mbuff/cache\u001b[m\u001b[m\u001b[m\u001b[m\u001b[K\n",
      "KiB Swap:\u001b[m\u001b[m\u001b[1m  4194300 \u001b[m\u001b[mtotal,\u001b[m\u001b[m\u001b[1m  4194300 \u001b[m\u001b[mfree,\u001b[m\u001b[m\u001b[1m        0 \u001b[m\u001b[mused.\u001b[m\u001b[m\u001b[1m 18669379+\u001b[m\u001b[mavail Mem \u001b[m\u001b[m\u001b[m\u001b[m\u001b[K\n",
      "\u001b[K\n",
      "\n",
      "\u001b[m193057 isonuma   20   0 1050964 170252  20856 S  10.9  0.1   0:11.43 node       \u001b[m\u001b[m\u001b[K\n",
      "\u001b[m  6772 root      20   0  194748  15752  12420 S   1.7  0.0   1532:10 vmeagt     \u001b[m\u001b[m\u001b[K\n",
      "\u001b[m160833 isonuma   20   0 9064056  87396  12628 S   1.7  0.0   0:13.60 python     \u001b[m\u001b[m\u001b[K\n",
      "\u001b[m  2025 root      20   0   22244   1932    976 S   0.7  0.0  95:38.73 irqbalance \u001b[m\u001b[m\u001b[K\n",
      "\u001b[m\u001b[1m194582 isonuma   20   0  162640   3040   1588 R   0.7  0.0   0:00.32 top        \u001b[m\u001b[m\u001b[K\n",
      "\u001b[m  2092 root      20   0  122560   8932   1380 S   0.3  0.0  79:32.91 srvmagtAc+ \u001b[m\u001b[m\u001b[K\n",
      "\u001b[m     1 root      20   0  198956  11856   2604 S   0.0  0.0  21:58.79 systemd    \u001b[m\u001b[m\u001b[K\n",
      "\u001b[m     2 root      20   0       0      0      0 S   0.0  0.0   0:03.17 kthreadd   \u001b[m\u001b[m\u001b[K\n",
      "\u001b[m     3 root      20   0       0      0      0 S   0.0  0.0   0:03.24 ksoftirqd+ \u001b[m\u001b[m\u001b[K\n",
      "\u001b[m     8 root      rt   0       0      0      0 S   0.0  0.0   0:01.19 migration+ \u001b[m\u001b[m\u001b[K\n",
      "\u001b[m     9 root      20   0       0      0      0 S   0.0  0.0   0:00.00 rcu_bh     \u001b[m\u001b[m\u001b[K\n",
      "\u001b[m    10 root      20   0       0      0      0 S   0.0  0.0  46:07.68 rcu_sched  \u001b[m\u001b[m\u001b[K\n",
      "\u001b[m    11 root       0 -20       0      0      0 S   0.0  0.0   0:00.00 lru-add-d+ \u001b[m\u001b[m\u001b[K\n",
      "\u001b[m    12 root      rt   0       0      0      0 S   0.0  0.0   0:28.09 watchdog/0 \u001b[m\u001b[m\u001b[K\n",
      "\u001b[m    13 root      rt   0       0      0      0 S   0.0  0.0   0:31.68 watchdog/1 \u001b[m\u001b[m\u001b[K\n",
      "\u001b[m    14 root      rt   0       0      0      0 S   0.0  0.0   0:03.02 migration+ \u001b[m\u001b[m\u001b[K\n",
      "\u001b[m    15 root      20   0       0      0      0 S   0.0  0.0   0:08.09 ksoftirqd+ \u001b[m\u001b[m\u001b[K\u001b[?1l\u001b>\u001b[25;1H\n",
      "\u001b[K"
     ]
    }
   ],
   "source": [
    "!top"
   ]
  },
  {
   "cell_type": "code",
   "execution_count": 1,
   "metadata": {},
   "outputs": [
    {
     "output_type": "execute_result",
     "data": {
      "text/plain": [
       "[name: \"/device:CPU:0\"\n",
       " device_type: \"CPU\"\n",
       " memory_limit: 268435456\n",
       " locality {\n",
       " }\n",
       " incarnation: 14059896007470488007,\n",
       " name: \"/device:XLA_CPU:0\"\n",
       " device_type: \"XLA_CPU\"\n",
       " memory_limit: 17179869184\n",
       " locality {\n",
       " }\n",
       " incarnation: 7729869957783979078\n",
       " physical_device_desc: \"device: XLA_CPU device\"]"
      ]
     },
     "metadata": {},
     "execution_count": 1
    }
   ],
   "source": [
    "from tensorflow.python.client import device_lib\n",
    "device_lib.list_local_devices()"
   ]
  },
  {
   "cell_type": "code",
   "execution_count": 2,
   "metadata": {},
   "outputs": [],
   "source": [
    "import numpy as np"
   ]
  },
  {
   "cell_type": "code",
   "execution_count": 3,
   "metadata": {},
   "outputs": [
    {
     "output_type": "execute_result",
     "data": {
      "text/plain": [
       "['/home/isonuma/.pyenv/versions/anaconda3-5.3.1/envs/py36/lib/python3.6/site-packages/numpy']"
      ]
     },
     "metadata": {},
     "execution_count": 3
    }
   ],
   "source": [
    "np.__path__"
   ]
  },
  {
   "cell_type": "code",
   "execution_count": 4,
   "metadata": {},
   "outputs": [
    {
     "output_type": "execute_result",
     "data": {
      "text/plain": [
       "2.6881171418161356e+43"
      ]
     },
     "metadata": {},
     "execution_count": 4
    }
   ],
   "source": [
    "np.exp(100)"
   ]
  },
  {
   "cell_type": "code",
   "execution_count": null,
   "metadata": {},
   "outputs": [],
   "source": []
  }
 ],
 "metadata": {
  "kernelspec": {
   "display_name": "py36",
   "language": "python",
   "name": "py36"
  },
  "language_info": {
   "codemirror_mode": {
    "name": "ipython",
    "version": 3
   },
   "file_extension": ".py",
   "mimetype": "text/x-python",
   "name": "python",
   "nbconvert_exporter": "python",
   "pygments_lexer": "ipython3",
   "version": "3.6.12"
  },
  "latex_envs": {
   "LaTeX_envs_menu_present": true,
   "autoclose": false,
   "autocomplete": true,
   "bibliofile": "biblio.bib",
   "cite_by": "apalike",
   "current_citInitial": 1,
   "eqLabelWithNumbers": true,
   "eqNumInitial": 1,
   "hotkeys": {
    "equation": "Ctrl-E",
    "itemize": "Ctrl-I"
   },
   "labels_anchors": false,
   "latex_user_defs": false,
   "report_style_numbering": false,
   "user_envs_cfg": false
  },
  "toc": {
   "base_numbering": 1,
   "nav_menu": {},
   "number_sections": true,
   "sideBar": true,
   "skip_h1_title": false,
   "title_cell": "Table of Contents",
   "title_sidebar": "Contents",
   "toc_cell": false,
   "toc_position": {},
   "toc_section_display": true,
   "toc_window_display": false
  }
 },
 "nbformat": 4,
 "nbformat_minor": 4
}